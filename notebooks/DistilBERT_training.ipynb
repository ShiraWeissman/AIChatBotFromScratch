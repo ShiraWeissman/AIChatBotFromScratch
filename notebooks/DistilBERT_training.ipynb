{
 "cells": [
  {
   "cell_type": "code",
   "execution_count": 1,
   "id": "bb3e8ca9-11b7-49b8-889c-bd1c34f7b818",
   "metadata": {},
   "outputs": [],
   "source": [
    "import sys\n",
    "import os\n",
    "sys.path.append(os.path.abspath(os.pardir))\n",
    "from src.preprocessing import load_and_preprocess_dataset"
   ]
  },
  {
   "cell_type": "code",
   "execution_count": null,
   "id": "597cf67e-24cd-4fb2-98d1-c3343a9abcfc",
   "metadata": {},
   "outputs": [
    {
     "name": "stdout",
     "output_type": "stream",
     "text": [
      "📥 Downloading tinystories dataset from Hugging Face...\n",
      "🔄 Preprocessing tinystories for distilbert model...\n"
     ]
    },
    {
     "data": {
      "application/vnd.jupyter.widget-view+json": {
       "model_id": "7156425cc0f0402192959f5d0e90074f",
       "version_major": 2,
       "version_minor": 0
      },
      "text/plain": [
       "Map:   0%|          | 0/2119719 [00:00<?, ? examples/s]"
      ]
     },
     "metadata": {},
     "output_type": "display_data"
    }
   ],
   "source": [
    "tinystories_distilbert = load_and_preprocess_dataset(\"tinystories\", model_type=\"distilbert\")"
   ]
  },
  {
   "cell_type": "code",
   "execution_count": null,
   "id": "b95cf693-52ab-4d7a-b072-0e355e79cecc",
   "metadata": {},
   "outputs": [],
   "source": []
  }
 ],
 "metadata": {
  "kernelspec": {
   "display_name": "Python 3 (ipykernel)",
   "language": "python",
   "name": "python3"
  },
  "language_info": {
   "codemirror_mode": {
    "name": "ipython",
    "version": 3
   },
   "file_extension": ".py",
   "mimetype": "text/x-python",
   "name": "python",
   "nbconvert_exporter": "python",
   "pygments_lexer": "ipython3",
   "version": "3.11.11"
  }
 },
 "nbformat": 4,
 "nbformat_minor": 5
}
