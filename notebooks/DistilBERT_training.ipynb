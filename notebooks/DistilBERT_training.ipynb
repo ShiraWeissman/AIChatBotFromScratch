{
  "cells": [
    {
      "cell_type": "markdown",
      "id": "9c91ec8e-9127-493b-9683-dc5277963e54",
      "metadata": {
        "id": "9c91ec8e-9127-493b-9683-dc5277963e54"
      },
      "source": [
        "# Training DistilBert Language Model and Qestion Answering Models"
      ]
    },
    {
      "cell_type": "code",
      "execution_count": null,
      "id": "bb3e8ca9-11b7-49b8-889c-bd1c34f7b818",
      "metadata": {
        "id": "bb3e8ca9-11b7-49b8-889c-bd1c34f7b818"
      },
      "outputs": [],
      "source": [
        "!git clone https://github.com/ShiraWeissman/AIChatBotFromScratch.git\n",
        "!pip3 install -r '/content/AIChatBotFromScratch/requirements.txt'\n",
        "import sys\n",
        "import os\n",
        "from google.colab import drive\n",
        "drive.mount('/content/drive')\n",
        "sys.path.append('AIChatBotFromScratch')\n",
        "from src.preprocessing import load_and_preprocess_dataset\n",
        "from src.train.distilbert_train import train_model, prepare_for_training, evaluate_model\n",
        "os.environ[\"WANDB_DISABLED\"] = \"true\""
      ]
    },
    {
      "cell_type": "markdown",
      "id": "582ed372-65e7-4155-bc57-eccc28cc1c98",
      "metadata": {
        "id": "582ed372-65e7-4155-bc57-eccc28cc1c98"
      },
      "source": [
        "### Loading and Preprocessing Wikipedia dataset.."
      ]
    },
    {
      "cell_type": "code",
      "execution_count": null,
      "id": "597cf67e-24cd-4fb2-98d1-c3343a9abcfc",
      "metadata": {
        "id": "597cf67e-24cd-4fb2-98d1-c3343a9abcfc"
      },
      "outputs": [],
      "source": [
        "wikipedia_distilbert = load_and_preprocess_dataset(\"wikipedia\", sample_size=1200000, model_type=\"distilbert\")"
      ]
    },
    {
      "cell_type": "markdown",
      "id": "7f2b26be-bbad-4b61-9313-50be2983abde",
      "metadata": {
        "id": "7f2b26be-bbad-4b61-9313-50be2983abde"
      },
      "source": [
        "### Training DistilBERT language model with the preprocessed Wikipedia dataset.."
      ]
    },
    {
      "cell_type": "code",
      "execution_count": null,
      "id": "b95cf693-52ab-4d7a-b072-0e355e79cecc",
      "metadata": {
        "id": "b95cf693-52ab-4d7a-b072-0e355e79cecc"
      },
      "outputs": [],
      "source": [
        "model, train_dataset, valid_dataset, config = prepare_for_training(task_type=\"language_modeling\")\n",
        "train_model(model, train_dataset, valid_dataset, config)\n",
        "!cp /content/AIChatBotFromScratch/models/distilbert_LM_model.zip   /content/drive/MyDrive/"
      ]
    },
    {
      "cell_type": "markdown",
      "source": [
        "### Evaluating the model on the train and validation datasets.."
      ],
      "metadata": {
        "id": "dXM-GqVi82IP"
      },
      "id": "dXM-GqVi82IP"
    },
    {
      "cell_type": "code",
      "execution_count": null,
      "id": "f7fd9cde-6711-482b-ab9f-781e8b242fdc",
      "metadata": {
        "id": "f7fd9cde-6711-482b-ab9f-781e8b242fdc"
      },
      "outputs": [],
      "source": [
        "evaluate_model(model, train_dataset, valid_dataset)"
      ]
    },
    {
      "cell_type": "markdown",
      "source": [
        "### Loading and Preprocessing Trivia_QA dataset.."
      ],
      "metadata": {
        "id": "hmBpcTGm9C2P"
      },
      "id": "hmBpcTGm9C2P"
    },
    {
      "cell_type": "code",
      "execution_count": null,
      "id": "8b959c8b-3d68-43c6-ba3e-d35c0e7ccd07",
      "metadata": {
        "id": "8b959c8b-3d68-43c6-ba3e-d35c0e7ccd07"
      },
      "outputs": [],
      "source": [
        "trivia_qa_distilbert = load_and_preprocess_dataset(\"trivia_qa\", sample_size=1000000, model_type=\"distilbert\", force_reprocess=True)"
      ]
    },
    {
      "cell_type": "markdown",
      "source": [
        "### Training DistilBERT Question Answering model with the preprocessed Wikipedia dataset.."
      ],
      "metadata": {
        "id": "-Y2ZSAQI9btN"
      },
      "id": "-Y2ZSAQI9btN"
    },
    {
      "cell_type": "code",
      "execution_count": null,
      "id": "2ab87d97-c75c-46f4-8d20-6475bb83fa91",
      "metadata": {
        "id": "2ab87d97-c75c-46f4-8d20-6475bb83fa91"
      },
      "outputs": [],
      "source": [
        "#!cp /content/drive/MyDrive/distilbert_LM_model.zip  /content/AIChatBotFromScratch/models/\n",
        "model, train_dataset, valid_dataset, config = prepare_for_training(task_type=\"question_answering\")\n",
        "train_model(model, train_dataset, valid_dataset, config)\n",
        "!cp /content/AIChatBotFromScratch/models/distilbert_QA_model.zip   /content/drive/MyDrive/"
      ]
    },
    {
      "cell_type": "markdown",
      "source": [
        "### Evaluating the model on the train and validation datasets.."
      ],
      "metadata": {
        "id": "kpMjl3jX9kqv"
      },
      "id": "kpMjl3jX9kqv"
    },
    {
      "cell_type": "code",
      "execution_count": null,
      "id": "b8ce60bd-edd3-490f-bcc4-6010294956f8",
      "metadata": {
        "id": "b8ce60bd-edd3-490f-bcc4-6010294956f8"
      },
      "outputs": [],
      "source": [
        "evaluate_model(model, train_dataset, valid_dataset)"
      ]
    }
  ],
  "metadata": {
    "kernelspec": {
      "display_name": "Python 3",
      "name": "python3"
    },
    "language_info": {
      "codemirror_mode": {
        "name": "ipython",
        "version": 3
      },
      "file_extension": ".py",
      "mimetype": "text/x-python",
      "name": "python",
      "nbconvert_exporter": "python",
      "pygments_lexer": "ipython3",
      "version": "3.11.11"
    },
    "colab": {
      "provenance": [],
      "machine_shape": "hm",
      "gpuType": "A100"
    },
    "accelerator": "GPU"
  },
  "nbformat": 4,
  "nbformat_minor": 5
}